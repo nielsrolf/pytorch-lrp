{
 "cells": [
  {
   "cell_type": "markdown",
   "metadata": {},
   "source": [
    "# MNIST Deep Taylor Decomposition\n",
    "\n",
    "This is an example hpw to use the code in `deeptaylor.py`\n",
    "\n",
    "We start with creating dataloaders for MNIST"
   ]
  },
  {
   "cell_type": "code",
   "execution_count": 1,
   "metadata": {},
   "outputs": [],
   "source": [
    "%matplotlib inline\n",
    "%load_ext autoreload\n",
    "%autoreload 2\n",
    "\n",
    "import torchvision\n",
    "import torchvision.transforms as transforms\n",
    "import torch\n",
    "from matplotlib import pyplot as plt\n",
    "        \n",
    "transform = transforms.Compose(\n",
    "    [transforms.ToTensor(),\n",
    "     transforms.Normalize((0.5, 0.5, 0.5), (0.5, 0.5, 0.5))])\n",
    "\n",
    "trainset = torchvision.datasets.MNIST(root='./data', train=True,\n",
    "                                        download=True, transform=transform)\n",
    "trainloader = torch.utils.data.DataLoader(trainset, batch_size=10,\n",
    "                                          shuffle=True, num_workers=2)\n",
    "\n",
    "testset = torchvision.datasets.MNIST(root='./data', train=False,\n",
    "                                       download=True, transform=transform)\n",
    "testloader = torch.utils.data.DataLoader(testset, batch_size=10,\n",
    "                                         shuffle=False, num_workers=2)"
   ]
  },
  {
   "cell_type": "markdown",
   "metadata": {},
   "source": [
    "Now, we create our model"
   ]
  },
  {
   "cell_type": "code",
   "execution_count": 2,
   "metadata": {
    "scrolled": true
   },
   "outputs": [
    {
     "name": "stdout",
     "output_type": "stream",
     "text": [
      "[1,  2000] loss: 0.705\n",
      "[1,  4000] loss: 0.148\n",
      "[1,  6000] loss: 0.107\n",
      "[2,  2000] loss: 0.086\n",
      "[2,  4000] loss: 0.080\n",
      "[2,  6000] loss: 0.069\n",
      "[3,  2000] loss: 0.061\n",
      "[3,  4000] loss: 0.053\n",
      "[3,  6000] loss: 0.057\n",
      "Accuracy: 0.9844\n"
     ]
    }
   ],
   "source": [
    "from deeptaylor import *\n",
    "from trainable_net import *\n",
    "import pdb\n",
    "\n",
    "\n",
    "class DigitNet(ExplainableModel):\n",
    "    \"\"\"\n",
    "    Rebuilt of cifar10utils.Net with deep taylor support\n",
    "    \"\"\"\n",
    "    def __init__(self):\n",
    "        layers = [\n",
    "            ConvRelu(1, 5, 5), # 24x24\n",
    "            MaxPool(2, 2), # 12x12\n",
    "            ConvRelu(5, 16, 5), # 8x8\n",
    "            MaxPool(2, 2), # 4x4\n",
    "            LinearRelu(4*4*16, 100),\n",
    "            Linear(100, 10)\n",
    "        ]\n",
    "        super().__init__(layers, -1, 1)\n",
    "        \n",
    "        # Because pytorch is weird, the submodels cannot be stored in a list\n",
    "        self.l1 = layers[0]\n",
    "        self.l2 = layers[1]\n",
    "        self.l3 = layers[2]\n",
    "        self.l4 = layers[3]\n",
    "        self.l5 = layers[4]\n",
    "        self.l6 = layers[5]\n",
    "        \n",
    "\n",
    "digit_net = DigitNet()\n",
    "# digit_net.train(3, trainloader)\n",
    "digit_net.load(\"cifar10net\")\n",
    "\n",
    "accuracy = digit_net.accuracy(testloader)\n",
    "print(\"Accuracy:\", accuracy)"
   ]
  },
  {
   "cell_type": "markdown",
   "metadata": {},
   "source": [
    "And generate some beautiful heatmaps."
   ]
  },
  {
   "cell_type": "code",
   "execution_count": 12,
   "metadata": {},
   "outputs": [
    {
     "name": "stdout",
     "output_type": "stream",
     "text": [
      "(DigitNet) -> torch.Size([9, 10])\n",
      "(DigitNet)     Conservation quotient: 1.0\n",
      "\n",
      "(Linear) -> torch.Size([9, 100])\n",
      "(Linear)     Conservation quotient: 1.000000238418579\n",
      "\n",
      "(LinearRelu) -> torch.Size([9, 256])\n",
      "(LinearRelu)     Conservation quotient: 1.0000001192092896\n",
      "\n",
      "(MaxPool) -> torch.Size([9, 16, 8, 8])\n",
      "(MaxPool)     Conservation quotient: 1.000000238418579\n",
      "\n",
      "(ConvRelu) -> torch.Size([9, 5, 12, 12])\n",
      "(ConvRelu)     Conservation quotient: 1.0000001192092896\n",
      "\n",
      "(MaxPool) -> torch.Size([9, 5, 24, 24])\n",
      "(MaxPool)     Conservation quotient: 1.000000238418579\n",
      "\n",
      "(ConvRelu) -> torch.Size([9, 1, 28, 28])\n",
      "(ConvRelu)     Conservation quotient: 1.0000001192092896\n",
      "\n"
     ]
    },
    {
     "data": {
      "image/png": "[encoded data removed]",
      "text/plain": [
       "<Figure size 432x432 with 9 Axes>"
      ]
     },
     "metadata": {},
     "output_type": "display_data"
    },
    {
     "name": "stderr",
     "output_type": "stream",
     "text": [
      "Clipping input data to the valid range for imshow with RGB data ([0..1] for floats or [0..255] for integers).\n"
     ]
    },
    {
     "data": {
      "image/png": "[encoded data removed]",
      "text/plain": [
       "<Figure size 432x432 with 9 Axes>"
      ]
     },
     "metadata": {},
     "output_type": "display_data"
    }
   ],
   "source": [
    "dataiter = iter(testloader)\n",
    "images, labels = dataiter.next()\n",
    "images, labels = images[:9], labels[:9]\n",
    "\n",
    "digit_net.forward(images)\n",
    "\n",
    "h_dtd = digit_net.deeptaylor(images, one_hot(labels))\n",
    "\n",
    "\n",
    "def plot_heatmaps(X, Y=None, scale=1.5):\n",
    "    X *= scale\n",
    "    X = X.reshape([-1, 28, 28])\n",
    "    rows, cols = int(np.sqrt(len(X))), int(np.ceil(np.sqrt(len(X))))\n",
    "    fig, axes = plt.subplots(nrows=rows, ncols=cols, squeeze=False,\n",
    "                            figsize=(2*cols,2*rows,))\n",
    "    for i, x in enumerate(X):\n",
    "        row = int(i/cols)\n",
    "        col = i % cols\n",
    "        ax = axes[row][col]\n",
    "        if Y is not None:\n",
    "            y = Y[i]\n",
    "            ax.set_title(np.argmax(y))\n",
    "        ax.tick_params(\n",
    "            which='both',      # both major and minor ticks are affected\n",
    "            bottom=False,      # ticks along the bottom edge are off\n",
    "            top=False,         # ticks along the top edge are off\n",
    "            left=False,\n",
    "            right=False,\n",
    "            labelbottom=False,\n",
    "            labelleft=False) # labels along the bottom edge are off\n",
    "        img = np.ones([28,28,3])\n",
    "        red = np.where(x>0,x,0)\n",
    "        blue = np.where(x>0,0,-x)\n",
    "        img[:,:,0] -= 4*blue\n",
    "        img[:,:,1] -= 4*(blue + red)\n",
    "        img[:,:,2] -= 4*red\n",
    "        ax.imshow(img)\n",
    "    plt.tight_layout()\n",
    "    plt.show()\n",
    "\n",
    "    \n",
    "def plot_digits(X, Y=None):\n",
    "    X = X.reshape([-1, 28, 28])\n",
    "    rows, cols = int(np.sqrt(len(X))), int(np.ceil(np.sqrt(len(X))))\n",
    "    fig, axes = plt.subplots(nrows=rows, ncols=cols, squeeze=False,\n",
    "                            figsize=(2*cols,2*rows,))\n",
    "    for i, x in enumerate(X):\n",
    "        row = int(i/cols)\n",
    "        col = i % cols\n",
    "        ax = axes[row][col]\n",
    "        if Y is not None:\n",
    "            y = Y[i]\n",
    "            ax.set_title(np.argmax(y))\n",
    "        ax.tick_params(\n",
    "            which='both',      # both major and minor ticks are affected\n",
    "            bottom=False,      # ticks along the bottom edge are off\n",
    "            top=False,         # ticks along the top edge are off\n",
    "            left=False,\n",
    "            right=False,\n",
    "            labelbottom=False,\n",
    "            labelleft=False) # labels along the bottom edge are off\n",
    "        ax.imshow(x, cmap='gray')\n",
    "    plt.tight_layout()\n",
    "    plt.show()\n",
    "\n",
    "plot_digits(images)\n",
    "plot_heatmaps(h_dtd.detach())"
   ]
  }
 ],
 "metadata": {
  "kernelspec": {
   "display_name": "Python 3",
   "language": "python",
   "name": "python3"
  },
  "language_info": {
   "codemirror_mode": {
    "name": "ipython",
    "version": 3
   },
   "file_extension": ".py",
   "mimetype": "text/x-python",
   "name": "python",
   "nbconvert_exporter": "python",
   "pygments_lexer": "ipython3",
   "version": "3.6.8"
  }
 },
 "nbformat": 4,
 "nbformat_minor": 2
}
